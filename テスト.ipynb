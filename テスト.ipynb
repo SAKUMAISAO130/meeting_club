{
 "nbformat": 4,
 "nbformat_minor": 2,
 "metadata": {
  "language_info": {
   "name": "python",
   "codemirror_mode": {
    "name": "ipython",
    "version": 3
   },
   "version": "3.8.1-final"
  },
  "orig_nbformat": 2,
  "file_extension": ".py",
  "mimetype": "text/x-python",
  "name": "python",
  "npconvert_exporter": "python",
  "pygments_lexer": "ipython3",
  "version": 3,
  "kernelspec": {
   "name": "python3",
   "display_name": "Python 3.8.1 64-bit",
   "metadata": {
    "interpreter": {
     "hash": "c216994a7a8152fbc976024d45b8aa827adefedf5712b4e122d38b34f53bb5dc"
    }
   }
  }
 },
 "cells": [
  {
   "source": [
    "\"\"\"\n",
    "（´-`）.｡oO　　セレニウムをインストールするよー\n",
    "\"\"\"\n",
    "\n",
    "pip install selenium"
   ],
   "cell_type": "code",
   "metadata": {},
   "execution_count": null,
   "outputs": []
  },
  {
   "source": [
    "\"\"\"\n",
    "（´-`）.｡oO　　ブラウザのオプションモジュールをインストールするよー\n",
    "\"\"\"\n",
    "\n",
    "pip install chromedriver-binary"
   ],
   "cell_type": "code",
   "metadata": {},
   "execution_count": null,
   "outputs": []
  },
  {
   "cell_type": "code",
   "execution_count": 10,
   "metadata": {
    "tags": []
   },
   "outputs": [
    {
     "output_type": "stream",
     "name": "stdout",
     "text": [
      "相席屋公式サイト - 出会い・婚活応援酒場 - | 相席から始まる、新しい出会い\n",
      "[['盛岡映画館通り店', '0', '33', '0', '33'],\n",
      " ['仙台国分町店', '0', '41', '0', '41'],\n",
      " ['宇都宮店', '0', '38', '0', '38'],\n",
      " ['大宮東口店', '0', '51', '0', '51'],\n",
      " ['千葉中央店', '0', '53', '0', '53'],\n",
      " ['渋谷センター街店', '0', '87', '0', '87'],\n",
      " ['渋谷店', '0', '62', '0', '62'],\n",
      " ['恵比寿店', '0', '40', '0', '40'],\n",
      " ['歌舞伎町店', '0', '55', '0', '55'],\n",
      " ['新宿東口店', '0', '60', '0', '60'],\n",
      " ['池袋東口店', '0', '33', '0', '33'],\n",
      " ['池袋西口店', '0', '30', '0', '30'],\n",
      " ['銀座コリドー店', '0', '44', '0', '44'],\n",
      " ['錦糸町店', '0', '38', '0', '38'],\n",
      " ['上野店', '0', '42', '0', '42'],\n",
      " ['横浜西口店', '0', '48', '0', '48'],\n",
      " ['新潟万代店', '0', '45', '0', '45'],\n",
      " ['富山駅前店', '0', '31', '0', '31'],\n",
      " ['浜松店', '0', '40', '0', '40'],\n",
      " ['名駅東口店', '0', '55', '0', '55'],\n",
      " ['道頓堀店', '0', '38', '0', '38'],\n",
      " ['うめだ阪急東通り店', '0', '43', '0', '43'],\n",
      " ['三宮生田神社前店', '0', '49', '0', '49'],\n",
      " ['岡山本町店', '0', '28', '0', '28'],\n",
      " ['小倉魚町店', '0', '55', '0', '55'],\n",
      " ['沖縄国際通り店', '0', '29', '0', '29']]\n"
     ]
    }
   ],
   "source": [
    "\"\"\"\n",
    "（´-`）.｡oO　　DOMを取得して加工するよー\n",
    "\"\"\"\n",
    "\n",
    "\n",
    "from selenium import webdriver\n",
    "from selenium.webdriver.chrome.options import Options\n",
    "import chromedriver_binary\n",
    "\n",
    "import pprint\n",
    "\n",
    "\n",
    "options = Options()\n",
    "# options.add_argument('--headless')#headlessモードで実行するかどうか\n",
    "driver = webdriver.Chrome(\"c:/Users/isao.sakuma/Downloads/chromedriver_win32/chromedriver.exe\",options=options) \n",
    "\n",
    "\n",
    "# Google検索画面にアクセス\n",
    "driver.get('https://aiseki-ya.com/')\n",
    "\n",
    "\n",
    "\n",
    "# htmlを取得・表示\n",
    "print(driver.title)\n",
    "\n",
    "\n",
    "# xpathを定義してfind関数で要素をリストで取得\n",
    "xpath = '//*[@id=\"js-container\"]/main/div[5]/div'\n",
    "# xpath = '//*[@id=\"js-container\"]/main/div[5]/div[1]/div[1]/p'\n",
    "# xpath = '//*[@id=\"js-container\"]/main/div[5]/div[2]/div[1]/p'\n",
    "elems = driver.find_elements_by_xpath(xpath)\n",
    "\n",
    "output = []  \n",
    "count = 0\n",
    "# 取得した要素を1つずつ表示\n",
    "for elem in elems:\n",
    "    data = elem.text.split()\n",
    "    data[1] = data[1].split('/')\n",
    "    data[2] = data[2].split('/')\n",
    "\n",
    "    array = []\n",
    "    array.append(data[0])\n",
    "    array.append(data[1][0].replace('人',''))\n",
    "    array.append(data[1][1].replace('人',''))\n",
    "    array.append(data[2][0].replace('人',''))\n",
    "    array.append(data[2][1].replace('人',''))\n",
    "\n",
    "    output.append(array)\n",
    "\n",
    "    count += 1\n",
    "\n",
    "\n",
    "# ブラウザーを終了\n",
    "driver.quit()\n",
    "\n",
    "pprint.pprint(output)\n",
    "\n",
    "\n",
    "\n",
    "\n"
   ]
  },
  {
   "cell_type": "code",
   "execution_count": null,
   "metadata": {},
   "outputs": [],
   "source": [
    "\"\"\"\n",
    "（´-`）.｡oO　　numpyインストールするの忘れてたー\n",
    "\"\"\"\n",
    "\n",
    "pip install numpy"
   ]
  },
  {
   "source": [
    "\"\"\"\n",
    "（´-`）.｡oO　　pandasインストールするの忘れてたー\n",
    "\"\"\"\n",
    "\n",
    "pip install pandas"
   ],
   "cell_type": "code",
   "metadata": {},
   "execution_count": null,
   "outputs": []
  },
  {
   "cell_type": "code",
   "execution_count": 18,
   "metadata": {},
   "outputs": [
    {
     "output_type": "execute_result",
     "data": {
      "text/plain": [
       "           店名 男性入店数 男性席数 女性入店数 女性席数\n",
       "0    盛岡映画館通り店     0   33     0   33\n",
       "1      仙台国分町店     0   41     0   41\n",
       "2        宇都宮店     0   38     0   38\n",
       "3       大宮東口店     0   51     0   51\n",
       "4       千葉中央店     0   53     0   53\n",
       "5    渋谷センター街店     0   87     0   87\n",
       "6         渋谷店     0   62     0   62\n",
       "7        恵比寿店     0   40     0   40\n",
       "8       歌舞伎町店     0   55     0   55\n",
       "9       新宿東口店     0   60     0   60\n",
       "10      池袋東口店     0   33     0   33\n",
       "11      池袋西口店     0   30     0   30\n",
       "12    銀座コリドー店     0   44     0   44\n",
       "13       錦糸町店     0   38     0   38\n",
       "14        上野店     0   42     0   42\n",
       "15      横浜西口店     0   48     0   48\n",
       "16      新潟万代店     0   45     0   45\n",
       "17      富山駅前店     0   31     0   31\n",
       "18        浜松店     0   40     0   40\n",
       "19      名駅東口店     0   55     0   55\n",
       "20       道頓堀店     0   38     0   38\n",
       "21  うめだ阪急東通り店     0   43     0   43\n",
       "22   三宮生田神社前店     0   49     0   49\n",
       "23      岡山本町店     0   28     0   28\n",
       "24      小倉魚町店     0   55     0   55\n",
       "25    沖縄国際通り店     0   29     0   29"
      ],
      "text/html": "<div>\n<style scoped>\n    .dataframe tbody tr th:only-of-type {\n        vertical-align: middle;\n    }\n\n    .dataframe tbody tr th {\n        vertical-align: top;\n    }\n\n    .dataframe thead th {\n        text-align: right;\n    }\n</style>\n<table border=\"1\" class=\"dataframe\">\n  <thead>\n    <tr style=\"text-align: right;\">\n      <th></th>\n      <th>店名</th>\n      <th>男性入店数</th>\n      <th>男性席数</th>\n      <th>女性入店数</th>\n      <th>女性席数</th>\n    </tr>\n  </thead>\n  <tbody>\n    <tr>\n      <th>0</th>\n      <td>盛岡映画館通り店</td>\n      <td>0</td>\n      <td>33</td>\n      <td>0</td>\n      <td>33</td>\n    </tr>\n    <tr>\n      <th>1</th>\n      <td>仙台国分町店</td>\n      <td>0</td>\n      <td>41</td>\n      <td>0</td>\n      <td>41</td>\n    </tr>\n    <tr>\n      <th>2</th>\n      <td>宇都宮店</td>\n      <td>0</td>\n      <td>38</td>\n      <td>0</td>\n      <td>38</td>\n    </tr>\n    <tr>\n      <th>3</th>\n      <td>大宮東口店</td>\n      <td>0</td>\n      <td>51</td>\n      <td>0</td>\n      <td>51</td>\n    </tr>\n    <tr>\n      <th>4</th>\n      <td>千葉中央店</td>\n      <td>0</td>\n      <td>53</td>\n      <td>0</td>\n      <td>53</td>\n    </tr>\n    <tr>\n      <th>5</th>\n      <td>渋谷センター街店</td>\n      <td>0</td>\n      <td>87</td>\n      <td>0</td>\n      <td>87</td>\n    </tr>\n    <tr>\n      <th>6</th>\n      <td>渋谷店</td>\n      <td>0</td>\n      <td>62</td>\n      <td>0</td>\n      <td>62</td>\n    </tr>\n    <tr>\n      <th>7</th>\n      <td>恵比寿店</td>\n      <td>0</td>\n      <td>40</td>\n      <td>0</td>\n      <td>40</td>\n    </tr>\n    <tr>\n      <th>8</th>\n      <td>歌舞伎町店</td>\n      <td>0</td>\n      <td>55</td>\n      <td>0</td>\n      <td>55</td>\n    </tr>\n    <tr>\n      <th>9</th>\n      <td>新宿東口店</td>\n      <td>0</td>\n      <td>60</td>\n      <td>0</td>\n      <td>60</td>\n    </tr>\n    <tr>\n      <th>10</th>\n      <td>池袋東口店</td>\n      <td>0</td>\n      <td>33</td>\n      <td>0</td>\n      <td>33</td>\n    </tr>\n    <tr>\n      <th>11</th>\n      <td>池袋西口店</td>\n      <td>0</td>\n      <td>30</td>\n      <td>0</td>\n      <td>30</td>\n    </tr>\n    <tr>\n      <th>12</th>\n      <td>銀座コリドー店</td>\n      <td>0</td>\n      <td>44</td>\n      <td>0</td>\n      <td>44</td>\n    </tr>\n    <tr>\n      <th>13</th>\n      <td>錦糸町店</td>\n      <td>0</td>\n      <td>38</td>\n      <td>0</td>\n      <td>38</td>\n    </tr>\n    <tr>\n      <th>14</th>\n      <td>上野店</td>\n      <td>0</td>\n      <td>42</td>\n      <td>0</td>\n      <td>42</td>\n    </tr>\n    <tr>\n      <th>15</th>\n      <td>横浜西口店</td>\n      <td>0</td>\n      <td>48</td>\n      <td>0</td>\n      <td>48</td>\n    </tr>\n    <tr>\n      <th>16</th>\n      <td>新潟万代店</td>\n      <td>0</td>\n      <td>45</td>\n      <td>0</td>\n      <td>45</td>\n    </tr>\n    <tr>\n      <th>17</th>\n      <td>富山駅前店</td>\n      <td>0</td>\n      <td>31</td>\n      <td>0</td>\n      <td>31</td>\n    </tr>\n    <tr>\n      <th>18</th>\n      <td>浜松店</td>\n      <td>0</td>\n      <td>40</td>\n      <td>0</td>\n      <td>40</td>\n    </tr>\n    <tr>\n      <th>19</th>\n      <td>名駅東口店</td>\n      <td>0</td>\n      <td>55</td>\n      <td>0</td>\n      <td>55</td>\n    </tr>\n    <tr>\n      <th>20</th>\n      <td>道頓堀店</td>\n      <td>0</td>\n      <td>38</td>\n      <td>0</td>\n      <td>38</td>\n    </tr>\n    <tr>\n      <th>21</th>\n      <td>うめだ阪急東通り店</td>\n      <td>0</td>\n      <td>43</td>\n      <td>0</td>\n      <td>43</td>\n    </tr>\n    <tr>\n      <th>22</th>\n      <td>三宮生田神社前店</td>\n      <td>0</td>\n      <td>49</td>\n      <td>0</td>\n      <td>49</td>\n    </tr>\n    <tr>\n      <th>23</th>\n      <td>岡山本町店</td>\n      <td>0</td>\n      <td>28</td>\n      <td>0</td>\n      <td>28</td>\n    </tr>\n    <tr>\n      <th>24</th>\n      <td>小倉魚町店</td>\n      <td>0</td>\n      <td>55</td>\n      <td>0</td>\n      <td>55</td>\n    </tr>\n    <tr>\n      <th>25</th>\n      <td>沖縄国際通り店</td>\n      <td>0</td>\n      <td>29</td>\n      <td>0</td>\n      <td>29</td>\n    </tr>\n  </tbody>\n</table>\n</div>"
     },
     "metadata": {},
     "execution_count": 18
    }
   ],
   "source": [
    "\"\"\"\n",
    "（´-`）.｡oO　　表で出力するよー\n",
    "\"\"\"\n",
    "\n",
    "import numpy as np\n",
    "import pandas as pd\n",
    "\n",
    "df = pd.DataFrame(output, columns=['店名', '男性入店数', '男性席数', '女性入店数', '女性席数'])\n",
    "df"
   ]
  },
  {
   "cell_type": "code",
   "execution_count": null,
   "metadata": {},
   "outputs": [],
   "source": []
  }
 ]
}